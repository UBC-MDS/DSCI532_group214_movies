{
 "cells": [
  {
   "cell_type": "markdown",
   "metadata": {},
   "source": [
    "If you are nascent to investing in the movie industry, your search ends right here! As a new investor, there are 4 fundamental questions you must know to estimate what your money is worth.\n",
    "\n",
    "\t1. What genre has been most profitable?\n",
    "\t2. How much does audience reception affect profit?\n",
    "\t3. What are the most and least popular genres that producers typically engage in?\n",
    "\n",
    "---------------------------------------------------------------------------------------------------------------------------------\n",
    "\n",
    "Welcome to our Interactive Movie Dashboard! It is quite simple and involves understanding 2 levers which will make your exploration fun and insightful.\n",
    "\n",
    "\t1. Use the slider to observe the evolution of the industry over the select time period.\n",
    "Use the drop down menu to look up the top XX genres"
   ]
  },
  {
   "cell_type": "markdown",
   "metadata": {},
   "source": [
    "\n",
    "Effectiveness:\n",
    "\n",
    "How good was it?\n",
    "\n",
    "1. The plot helps to answer the three core questions. The user can succesfully answer the research questions with the dashboard.\n",
    "2. The plots are interactive and change based on the conditions (genre, year).\n",
    "3. It is well laid out with a header, body and footer. \n",
    "\n",
    "How could have we made it even better?\n",
    "\n",
    "1. The summary statistics section could have been made with a little more \n",
    "\n"
   ]
  }
 ],
 "metadata": {
  "kernelspec": {
   "display_name": "Python 3",
   "language": "python",
   "name": "python3"
  },
  "language_info": {
   "codemirror_mode": {
    "name": "ipython",
    "version": 3
   },
   "file_extension": ".py",
   "mimetype": "text/x-python",
   "name": "python",
   "nbconvert_exporter": "python",
   "pygments_lexer": "ipython3",
   "version": "3.7.3"
  }
 },
 "nbformat": 4,
 "nbformat_minor": 4
}
