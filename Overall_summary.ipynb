{
 "cells": [
  {
   "cell_type": "markdown",
   "metadata": {},
   "source": [
    "**Summary for Jumbo**\n",
    "\n",
    "If you are nascent to investing in the movie industry, your search ends right here! As a new investor, there are 4 fundamental questions you must know to estimate what your money is worth.\n",
    "\n",
    "\t1. What genre has been most profitable?\n",
    "\t2. How much does audience reception affect profit?\n",
    "\t3. What are the most and least popular genres that producers typically engage in?\n",
    "\n",
    "Welcome to our Interactive Movie Dashboard! It is quite simple and involves understanding 2 levers which will make your exploration fun and insightful.\n",
    "\n",
    "\t1. Use the slider to observe the evolution of the industry over the select time period.\n",
    "\t2. Use the drop down menu to look up the top XX genres"
   ]
  },
  {
   "cell_type": "markdown",
   "metadata": {},
   "source": [
    "\n",
    "**Effectiveness:**\n",
    "\n",
    "**What elements of the dashboard were effective?**\n",
    "\n",
    "1. The plot helps to answer the three core questions. The user can succesfully answer the research questions with the dashboard.\n",
    "\n",
    "2. The plots are interactive and change based on the conditions (genre, year).\n",
    "\n",
    "3. It is well laid out with a header, body and footer. \n",
    "\n",
    "4. Provides a summary of impactful movies over the filtered conditions.\n",
    "\n",
    "5. The colors in the graph are aesthetically pleasing. \n",
    "\n",
    "6. We control the options that the users could experiment with so that the user doesn't break the dashboard.\n",
    "\n",
    "7. We didn't call it a 'dashboard'!\n",
    "\n",
    "**How could have we made it even better?**\n",
    "\n",
    "1. The summary statistics section could have been made with a border/box to delineate the section from the rest and also aesthetically mapped to look similar to the rest of the dashboard.\n",
    "\n",
    "2. We would have liked to have all 4 sections align to look square.\n",
    "\n",
    "3. We have shown only the major genre and not the marriage between the creative type with it.\n",
    "\n",
    "4. We haven't delineated the gross obtained from US and outside of the US. Rather, the WW gross has been used. So, for someone targetting just the US audience might want to look at the difference between the two."
   ]
  },
  {
   "cell_type": "code",
   "execution_count": null,
   "metadata": {},
   "outputs": [],
   "source": []
  }
 ],
 "metadata": {
  "kernelspec": {
   "display_name": "Python 3",
   "language": "python",
   "name": "python3"
  },
  "language_info": {
   "codemirror_mode": {
    "name": "ipython",
    "version": 3
   },
   "file_extension": ".py",
   "mimetype": "text/x-python",
   "name": "python",
   "nbconvert_exporter": "python",
   "pygments_lexer": "ipython3",
   "version": "3.7.3"
  }
 },
 "nbformat": 4,
 "nbformat_minor": 4
}
