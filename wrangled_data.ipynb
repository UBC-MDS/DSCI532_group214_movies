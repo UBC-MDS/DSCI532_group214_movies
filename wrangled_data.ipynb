{
 "cells": [
  {
   "cell_type": "code",
   "execution_count": 3,
   "metadata": {},
   "outputs": [],
   "source": [
    "import pandas as pd\n",
    "import numpy as np\n",
    "\n",
    "year_info = [1950,1960] # Implement as callback\n",
    "genre_input = 'Any' #Implement as callback\n",
    "\n",
    "df = pd.read_json('https://raw.githubusercontent.com/vega/vega-datasets/master/data/movies.json', orient = 'columns')\n",
    "df['Release_Date'] =  pd.to_datetime(df['Release_Date'], infer_datetime_format=True)\n",
    "df['Release_Date'] = df['Release_Date'].dt.year"
   ]
  },
  {
   "cell_type": "code",
   "execution_count": 4,
   "metadata": {},
   "outputs": [
    {
     "data": {
      "text/plain": [
       "'The biggest worldwide flop was Men of War'"
      ]
     },
     "execution_count": 4,
     "metadata": {},
     "output_type": "execute_result"
    }
   ],
   "source": [
    "def biggest_flop(year_info, genre_input):\n",
    "    '''This function gives you the biggest flop from the movies dataset.\n",
    "    \n",
    "    Inputs :\n",
    "        year_info : List with 2 values, takes in the year information from the callback above\n",
    "                    [1970,1985]\n",
    "        genre_input : (To be programmed) : takes in the genre information from the callback above\n",
    "                    'Drama', 'Any'\n",
    "    Returns\n",
    "        A string (see example)\n",
    "    \n",
    "    Example\n",
    "        'The biggest worldwide flop was Men of War'\n",
    "    \n",
    "    '''\n",
    "    #Condition to wrangle based on 'Any' genre\n",
    "    if genre_input != 'Any': \n",
    "        k = df[df['Major_Genre'] == genre_input]\n",
    "    \n",
    "    #Condition to have data between those years\n",
    "    k = (df[(df['Release_Date'] > year_info[0]) & (df['Release_Date'] < year_info[1]) ]\n",
    "     .sort_values(by = \"US_Gross\",ascending = True))\n",
    "    \n",
    "    k_US_Gross = k.iloc[1].loc['Worldwide_Gross']/1000 #We won't use this for the flopped movie.\n",
    "    k_movie = k.iloc[0].loc['Title']\n",
    "    \n",
    "    return \"The biggest worldwide flop was \" + k_movie\n",
    "\n",
    "biggest_flop([1970,2000],\"Drama\")"
   ]
  },
  {
   "cell_type": "code",
   "execution_count": 5,
   "metadata": {},
   "outputs": [
    {
     "data": {
      "text/plain": [
       "'The most succesful movie was Titanic at a worldwide gross of 797.9 Million USD'"
      ]
     },
     "execution_count": 5,
     "metadata": {},
     "output_type": "execute_result"
    }
   ],
   "source": [
    "def biggest_success(year_info, genre_input):\n",
    "    '''This function gives you the highest WW grossing movie and the amount.\n",
    "    \n",
    "    Inputs :\n",
    "        year_info : List with 2 values, takes in the year information from the callback above\n",
    "                    [1970,1985]\n",
    "        genre_input : (To be programmed) : takes in the genre information\n",
    "                    'Drama', 'Any'\n",
    "    \n",
    "    Returns\n",
    "        A string (see example)\n",
    "    \n",
    "    Example\n",
    "        'The most succesful movie was Titanic at a worldwide gross of 797.9 Million USD'        \n",
    "    \n",
    "    '''\n",
    "    #Condition to wrangle based on 'Any' genre\n",
    "    if genre_input != 'Any': \n",
    "        k = df[df['Major_Genre'] == genre_input]\n",
    "    \n",
    "    #Condition to have data between those years\n",
    "    k = (df[(df['Release_Date'] > year_info[0]) & (df['Release_Date'] < year_info[1]) ]\n",
    "     .sort_values(by = \"US_Gross\",ascending = False))\n",
    "    k_WW_Gross = k.iloc[1].loc['Worldwide_Gross']/1000000\n",
    "    k_movie = k.iloc[0].loc['Title']\n",
    "    return \"The most succesful movie was \" + k_movie + \" at a worldwide gross of \" + str(k_WW_Gross) + \" Million USD\"\n",
    "\n",
    "biggest_success([1970,2000],\"Drama\")"
   ]
  },
  {
   "cell_type": "code",
   "execution_count": 6,
   "metadata": {},
   "outputs": [
    {
     "data": {
      "text/plain": [
       "'The average return on investment during the period 1970-2000 was 56.73 Million USD'"
      ]
     },
     "execution_count": 6,
     "metadata": {},
     "output_type": "execute_result"
    }
   ],
   "source": [
    "def average_returns(year_info, genre_input):\n",
    "    '''This function gives you the average return on investment during the period.\n",
    "    \n",
    "    Inputs :\n",
    "        year_info : List with 2 values, takes in the year information from the callback above\n",
    "                    [1970,1985]\n",
    "        genre_input : (To be programmed) : takes in the genre information\n",
    "                    'Drama', 'Any'\n",
    "    \n",
    "    Returns\n",
    "        A string (see example)\n",
    "    \n",
    "    Example\n",
    "        ''The average return on investment during the period 1970-2000 was 56.73 Million USD'        \n",
    "    \n",
    "    '''\n",
    "    \n",
    "    #Condition to wrangle based on 'Any' genre\n",
    "    if genre_input != 'Any': \n",
    "        k = df[df['Major_Genre'] == genre_input]\n",
    "    \n",
    "    #Condition to have data between those years\n",
    "    k = df[(df['Release_Date'] > year_info[0]) & (df['Release_Date'] < year_info[1]) ]\n",
    "    average_returns = round(np.mean(k['Worldwide_Gross'] - k['Production_Budget'])/1000000,2)\n",
    "    return (\"The average return on investment during the period \" \n",
    "            + str(year_info[0]) + '-' + str(year_info[1]) \n",
    "            + ' was ' + str(average_returns) + \" Million USD\" )\n",
    "    \n",
    "average_returns([1970,2000],'Drama')\n"
   ]
  },
  {
   "cell_type": "code",
   "execution_count": 7,
   "metadata": {},
   "outputs": [
    {
     "data": {
      "text/plain": [
       "'The movie industry during the period 1998-2000 was 6.94 Billion USD'"
      ]
     },
     "execution_count": 7,
     "metadata": {},
     "output_type": "execute_result"
    }
   ],
   "source": [
    "def how_big(year_info, genre_input):\n",
    "    '''This function gives you an estimate of how big the movie industry \n",
    "        was in that period for that genre\n",
    "    \n",
    "    Inputs :\n",
    "        year_info : List with 2 values, takes in the year information from the callback above\n",
    "                    [1970,1985]\n",
    "        genre_input : (To be programmed) : takes in the genre information\n",
    "                    'Drama', 'Any'\n",
    "    \n",
    "    Returns\n",
    "        A string (see example)\n",
    "    \n",
    "    Example\n",
    "        ''The average return on investment during the period 1970-2000 was 56.73 Million USD'        \n",
    "    \n",
    "    '''\n",
    "    #Condition to wrangle based on 'Any' genre\n",
    "    if genre_input != 'Any': \n",
    "        k = df[df['Major_Genre'] == genre_input]\n",
    "    \n",
    "    #Condition to have data between those years\n",
    "    k = df[(df['Release_Date'] > year_info[0]) & (df['Release_Date'] < year_info[1]) ]\n",
    "    average_returns = round(np.sum(k['Worldwide_Gross'] - k['Production_Budget'])/1000000000,2)\n",
    "    return (\"The movie industry during the period \" \n",
    "            + str(year_info[0]) + '-' + str(year_info[1]) \n",
    "            + ' was ' + str(average_returns) + \" Billion USD\" )\n",
    "    \n",
    "how_big([1998,2000],'Drama')\n"
   ]
  }
 ],
 "metadata": {
  "kernelspec": {
   "display_name": "Python 3",
   "language": "python",
   "name": "python3"
  },
  "language_info": {
   "codemirror_mode": {
    "name": "ipython",
    "version": 3
   },
   "file_extension": ".py",
   "mimetype": "text/x-python",
   "name": "python",
   "nbconvert_exporter": "python",
   "pygments_lexer": "ipython3",
   "version": "3.7.3"
  }
 },
 "nbformat": 4,
 "nbformat_minor": 4
}
