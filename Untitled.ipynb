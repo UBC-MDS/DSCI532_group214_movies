{
 "cells": [
  {
   "cell_type": "code",
   "execution_count": 1,
   "metadata": {},
   "outputs": [
    {
     "data": {
      "text/plain": [
       "DataTransformerRegistry.enable('json')"
      ]
     },
     "execution_count": 1,
     "metadata": {},
     "output_type": "execute_result"
    }
   ],
   "source": [
    "import pandas as pd\n",
    "import altair as alt\n",
    "\n",
    "alt.data_transformers.enable('json')"
   ]
  },
  {
   "cell_type": "code",
   "execution_count": 4,
   "metadata": {},
   "outputs": [],
   "source": [
    "import dash\n",
    "import dash_core_components as dcc\n",
    "import dash_html_components as html\n",
    "import dash_bootstrap_components as dbc\n",
    "\n",
    "import vega_datasets"
   ]
  },
  {
   "cell_type": "code",
   "execution_count": 2,
   "metadata": {},
   "outputs": [],
   "source": [
    "dataURL = \"https://raw.githubusercontent.com/vega/vega-datasets/master/data/movies.json\"\n",
    "df = pd.read_json(dataURL, convert_dates=True)\n",
    "\n",
    "\n",
    "df['Release_Date'] = pd.to_datetime(df['Release_Date'])\n",
    "\n",
    "df['year'] = df['Release_Date'].dt.year\n",
    "df['month'] = df['Release_Date'].dt.month\n",
    "df['month_name'] = df['Release_Date'].dt.month_name()\n",
    "df['day'] = df['Release_Date'].dt.day\n",
    "df['day_of_week'] = df['Release_Date'].dt.day_name()"
   ]
  },
  {
   "cell_type": "code",
   "execution_count": 5,
   "metadata": {},
   "outputs": [
    {
     "data": {
      "text/plain": [
       "Index(['Title', 'US_Gross', 'Worldwide_Gross', 'US_DVD_Sales',\n",
       "       'Production_Budget', 'Release_Date', 'MPAA_Rating', 'Running_Time_min',\n",
       "       'Distributor', 'Source', 'Major_Genre', 'Creative_Type', 'Director',\n",
       "       'Rotten_Tomatoes_Rating', 'IMDB_Rating', 'IMDB_Votes', 'year', 'month',\n",
       "       'month_name', 'day', 'day_of_week'],\n",
       "      dtype='object')"
      ]
     },
     "execution_count": 5,
     "metadata": {},
     "output_type": "execute_result"
    }
   ],
   "source": [
    "df.columns"
   ]
  },
  {
   "cell_type": "code",
   "execution_count": 7,
   "metadata": {},
   "outputs": [
    {
     "data": {
      "text/plain": [
       "array([None, 'Drama', 'Comedy', 'Musical', 'Thriller/Suspense',\n",
       "       'Adventure', 'Action', 'Romantic Comedy', 'Horror', 'Western',\n",
       "       'Documentary', 'Black Comedy', 'Concert/Performance'], dtype=object)"
      ]
     },
     "execution_count": 7,
     "metadata": {},
     "output_type": "execute_result"
    }
   ],
   "source": [
    "df['Major_Genre'].unique()"
   ]
  },
  {
   "cell_type": "code",
   "execution_count": null,
   "metadata": {},
   "outputs": [],
   "source": []
  }
 ],
 "metadata": {
  "kernelspec": {
   "display_name": "Python 3",
   "language": "python",
   "name": "python3"
  },
  "language_info": {
   "codemirror_mode": {
    "name": "ipython",
    "version": 3
   },
   "file_extension": ".py",
   "mimetype": "text/x-python",
   "name": "python",
   "nbconvert_exporter": "python",
   "pygments_lexer": "ipython3",
   "version": "3.7.4"
  }
 },
 "nbformat": 4,
 "nbformat_minor": 4
}
